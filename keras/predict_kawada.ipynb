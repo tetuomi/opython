{
 "cells": [
  {
   "cell_type": "code",
   "execution_count": 14,
   "metadata": {},
   "outputs": [],
   "source": [
    "from tensorflow.keras.models import model_from_json\n",
    "import glob\n",
    "from PIL import Image\n",
    "import numpy as np\n",
    "import matplotlib.pyplot as plt\n",
    "import cv2"
   ]
  },
  {
   "cell_type": "code",
   "execution_count": 15,
   "metadata": {},
   "outputs": [],
   "source": [
    "# モデルの読み込み\n",
    "model = model_from_json(open('and.json', 'r').read())\n",
    "\n",
    "# 重みの読み込み\n",
    "model.load_weights('and_weight.hdf5')"
   ]
  },
  {
   "cell_type": "code",
   "execution_count": 16,
   "metadata": {},
   "outputs": [],
   "source": [
    "image_size = 200"
   ]
  },
  {
   "cell_type": "code",
   "execution_count": 17,
   "metadata": {},
   "outputs": [],
   "source": [
    "def cropping(img, x, y, w, h):\n",
    "    #(x, y),(x+px, y),(x,y+px),(x+px, y+px)を四隅としてcrop\n",
    "    cropped = img[y:y+h,x:x+w]\n",
    "    #サイズを拡大　\n",
    "    cropped = cv2.resize(cropped, (image_size, image_size))\n",
    "    return cropped"
   ]
  },
  {
   "cell_type": "code",
   "execution_count": 26,
   "metadata": {},
   "outputs": [],
   "source": [
    "def face_search(image, name):\n",
    "    #顔\n",
    "    face_cascade_path = \"haarcascade_frontalface_alt.xml\"\n",
    "    # カスケード分類器を作成\n",
    "    face_cascade = cv2.CascadeClassifier(face_cascade_path) \n",
    "\n",
    "    # 画像を読み込む\n",
    "    img = cv2.imread(image) \n",
    "    # グレースケール化\n",
    "    img_gray = cv2.cvtColor(img, cv2.COLOR_BGR2GRAY) \n",
    "\n",
    "\n",
    "    # 出力結果用にコピー & BGR化\n",
    "    img = cv2.cvtColor(img, cv2.COLOR_BGR2RGB)\n",
    "    #顔を検知\n",
    "    faces = face_cascade.detectMultiScale(img_gray)\n",
    "    \n",
    "    color = [(255,0,0), (255, 255, 255)]\n",
    "    \n",
    "    if len(faces) > 0:\n",
    "        for (x,y,w,h) in faces:\n",
    "            X = cropping(img, x, y, w, h)\n",
    "            X = X.astype('float32')\n",
    "            X = X / 255.0\n",
    "            X = X[None, ...]\n",
    "            prd = model.predict(X).argmax(axis=1)\n",
    "            \n",
    "            cv2.rectangle(img,(x,y),(x+w,y+h),color[int(prd)],10)\n",
    "    else :\n",
    "        print(\"認識失敗\", image)\n",
    "    img = cv2.cvtColor(img, cv2.COLOR_RGB2BGR)\n",
    "    cv2.imwrite(\"./images/test/ans_\" + name + \".JPG\", img)"
   ]
  },
  {
   "cell_type": "code",
   "execution_count": 27,
   "metadata": {},
   "outputs": [],
   "source": [
    "files = glob.glob(\"./images/test/*.JPG\")\n",
    "for i, file in enumerate(files):\n",
    "    face_search(file, str(i))"
   ]
  }
 ],
 "metadata": {
  "kernelspec": {
   "display_name": "Python 3",
   "language": "python",
   "name": "python3"
  },
  "language_info": {
   "codemirror_mode": {
    "name": "ipython",
    "version": 3
   },
   "file_extension": ".py",
   "mimetype": "text/x-python",
   "name": "python",
   "nbconvert_exporter": "python",
   "pygments_lexer": "ipython3",
   "version": "3.6.0"
  }
 },
 "nbformat": 4,
 "nbformat_minor": 2
}
